{
 "cells": [
  {
   "cell_type": "markdown",
   "metadata": {
    "colab_type": "text",
    "id": "9GyJOj4CjvH9"
   },
   "source": [
    "**You may need to install [OpenCV](https://pypi.python.org/pypi/opencv-python) and [scikit-video](http://www.scikit-video.org/stable/).**"
   ]
  },
  {
   "cell_type": "code",
   "execution_count": 0,
   "metadata": {
    "colab": {},
    "colab_type": "code",
    "id": "QnaSKTOJjvH_"
   },
   "outputs": [],
   "source": [
    "import keras\n",
    "import numpy as np\n",
    "import io\n",
    "import base64\n",
    "from IPython.display import HTML\n",
    "import skvideo.io\n",
    "import cv2\n",
    "import json\n",
    "\n",
    "import collections\n",
    "\n",
    "from keras.models import Sequential,model_from_json\n",
    "from keras.layers.core import Dense\n",
    "from keras.optimizers import sgd\n",
    "from keras.layers import Flatten,Conv2D, MaxPooling2D, Activation, AveragePooling2D,Reshape,BatchNormalization,Dropout"
   ]
  },
  {
   "cell_type": "markdown",
   "metadata": {
    "colab_type": "text",
    "id": "-a2bE_VPjvID"
   },
   "source": [
    "# MiniProject #3: Deep Reinforcement Learning"
   ]
  },
  {
   "cell_type": "markdown",
   "metadata": {
    "colab_type": "text",
    "id": "y9U8RfffjvIE"
   },
   "source": [
    "__Notations__: $E_p$ is the expectation under probability $p$. Please justify each of your answer and widely comment your code."
   ]
  },
  {
   "cell_type": "markdown",
   "metadata": {
    "colab_type": "text",
    "id": "lVODW_8DjvIF"
   },
   "source": [
    "# Context"
   ]
  },
  {
   "cell_type": "markdown",
   "metadata": {
    "colab_type": "text",
    "id": "v92ReM1JjvIG"
   },
   "source": [
    "In a reinforcement learning algorithm, we modelize each step $t$ as an action $a_t$ obtained from a state $s_t$, i.e. $\\{(a_{t},s_{t})_{t\\leq T}\\}$ having the Markov property. We consider a discount factor $\\gamma \\in [0,1]$ that ensures convergence. The goal is to find among all the policies $\\pi$, one that maximizes the expected reward:\n",
    "\n",
    "\\begin{equation*}\n",
    "R(\\pi)=\\sum_{t\\leq T}E_{p^{\\pi}}[\\gamma^t r(s_{t},a_{t})] \\> ,\n",
    "\\end{equation*}\n",
    "\n",
    "where: \n",
    "\\begin{equation*}p^{\\pi}(a_{0},a_{1},s_{1},...,a_{T},s_{T})=p(a_{0})\\prod_{t=1}^{T}\\pi(a_{t}|s_{t})p(s_{t+1}|s_{t},a_{t}) \\> .\n",
    "\\end{equation*}\n",
    "\n",
    "We note the $Q$-function:\n",
    "\n",
    "\\begin{equation*}Q^\\pi(s,a)=E_{p^{\\pi}}[\\sum_{t\\leq T}\\gamma^{t}r(s_{t},a_{t})|s_{0}=s,a_{0}=a] \\> .\n",
    "\\end{equation*}\n",
    "\n",
    "Thus, the optimal Q function is:\n",
    "\\begin{equation*}\n",
    "Q^*(s,a)=\\max_{\\pi}Q^\\pi(s,a) \\> .\n",
    "\\end{equation*}\n",
    "\n",
    "In this project, we will apply the deep reinforcement learning techniques to a simple game: an agent will have to learn from scratch a policy that will permit it maximizing a reward."
   ]
  },
  {
   "cell_type": "markdown",
   "metadata": {
    "colab_type": "text",
    "id": "OtSPOj1ljvIH"
   },
   "source": [
    "## The environment, the agent and the game"
   ]
  },
  {
   "cell_type": "markdown",
   "metadata": {
    "colab_type": "text",
    "id": "5Tkoj4sEjvII"
   },
   "source": [
    "### The environment"
   ]
  },
  {
   "cell_type": "markdown",
   "metadata": {
    "colab_type": "text",
    "id": "7ZGA7uvyjvII"
   },
   "source": [
    "```Environment``` is an abstract class that represents the states, rewards, and actions to obtain the new state."
   ]
  },
  {
   "cell_type": "code",
   "execution_count": 0,
   "metadata": {
    "colab": {},
    "colab_type": "code",
    "id": "Y318XbVGjvIJ"
   },
   "outputs": [],
   "source": [
    "class Environment(object):\n",
    "    def __init__(self):\n",
    "        pass\n",
    "\n",
    "    def act(self, act):\n",
    "        \"\"\"\n",
    "        One can act on the environment and obtain its reaction:\n",
    "        - the new state\n",
    "        - the reward of the new state\n",
    "        - should we continue the game?\n",
    "\n",
    "        :return: state, reward, game_over\n",
    "        \"\"\"\n",
    "        pass\n",
    "\n",
    "\n",
    "    def reset(self):\n",
    "        \"\"\"\n",
    "        Reinitialize the environment to a random state and returns\n",
    "        the original state\n",
    "\n",
    "        :return: state\n",
    "        \"\"\"\n",
    "        pass\n",
    "    \n",
    "    def draw(self):\n",
    "        \"\"\"\n",
    "        Visualize in the console or graphically the current state\n",
    "        \"\"\"\n",
    "        pass"
   ]
  },
  {
   "cell_type": "markdown",
   "metadata": {
    "colab_type": "text",
    "id": "_VfAJJFBjvIM"
   },
   "source": [
    "The method ```act``` allows to act on the environment at a given state $s_t$ (stored internally), via action $a_t$. The method will return the new state $s_{t+1}$, the reward $r(s_{t},a_{t})$ and determines if $t\\leq T$ (*game_over*).\n",
    "\n",
    "The method ```reset``` simply reinitializes the environment to a random state $s_0$.\n",
    "\n",
    "The method ```draw``` displays the current state $s_t$ (this is useful to check the behavior of the Agent).\n",
    "\n",
    "We modelize $s_t$ as a tensor, while $a_t$ is an integer."
   ]
  },
  {
   "cell_type": "markdown",
   "metadata": {
    "colab_type": "text",
    "id": "76zKUEWEjvIN"
   },
   "source": [
    "### The Agent"
   ]
  },
  {
   "cell_type": "markdown",
   "metadata": {
    "colab_type": "text",
    "id": "w3KJTRWEjvIO"
   },
   "source": [
    "The goal of the ```Agent``` is to interact with the ```Environment``` by proposing actions $a_t$ obtained from a given state $s_t$ to attempt to maximize its __reward__ $r(s_t,a_t)$. We propose the following abstract class:"
   ]
  },
  {
   "cell_type": "code",
   "execution_count": 0,
   "metadata": {
    "colab": {},
    "colab_type": "code",
    "id": "2tL5oMYijvIP"
   },
   "outputs": [],
   "source": [
    "class Agent(object):\n",
    "    def __init__(self, epsilon=0.1, n_action=4):\n",
    "        self.epsilon = epsilon\n",
    "        self.n_action = n_action\n",
    "    \n",
    "    def set_epsilon(self,e):\n",
    "        self.epsilon = e\n",
    "\n",
    "    def act(self,s,train=True):\n",
    "        \"\"\" This function should return the next action to do:\n",
    "        an integer between 0 and 4 (not included) with a random exploration of epsilon\"\"\"\n",
    "        if train:\n",
    "            if np.random.rand() <= self.epsilon:\n",
    "                a = np.random.randint(0, self.n_action, size=1)[0]\n",
    "            else:\n",
    "                a = self.learned_act(s)\n",
    "        else: # in some cases, this can improve the performance.. remove it if poor performances\n",
    "            a = self.learned_act(s)\n",
    "\n",
    "        return a\n",
    "\n",
    "    def learned_act(self,s):\n",
    "        \"\"\" Act via the policy of the agent, from a given state s\n",
    "        it proposes an action a\"\"\"\n",
    "        pass\n",
    "\n",
    "    def reinforce(self, s, n_s, a, r, game_over_):\n",
    "        \"\"\" This function is the core of the learning algorithm. \n",
    "        It takes as an input the current state s_, the next state n_s_\n",
    "        the action a_ used to move from s_ to n_s_ and the reward r_.\n",
    "        \n",
    "        Its goal is to learn a policy.\n",
    "        \"\"\"\n",
    "        pass\n",
    "\n",
    "    def save(self):\n",
    "        \"\"\" This function returns basic stats if applicable: the\n",
    "        loss and/or the model\"\"\"\n",
    "        pass\n",
    "\n",
    "    def load(self):\n",
    "        \"\"\" This function allows to restore a model\"\"\"\n",
    "        pass"
   ]
  },
  {
   "cell_type": "markdown",
   "metadata": {
    "colab_type": "text",
    "id": "W2MHHNn8jvIT"
   },
   "source": [
    "***\n",
    "__Question 1__:\n",
    "Explain the function act. Why is ```epsilon``` essential?"
   ]
  },
  {
   "cell_type": "markdown",
   "metadata": {
    "colab_type": "text",
    "id": "AOn3wmc1jvIU"
   },
   "source": [
    "The act function returns the next action the agent will take. \n",
    "\n",
    "The act function uses epsilon-greedy strategy which is an effective way to  trade off exploration(gather more information) and exploitation(find the best action with maximum reward given current information).\n",
    "\n",
    "The probability of taking random action is  $\\epsilon$ and the probability of exploiting the recommended action is 1-$\\epsilon$ to choose the best action which maximize the reward.\n",
    "\n"
   ]
  },
  {
   "cell_type": "markdown",
   "metadata": {
    "colab_type": "text",
    "id": "MZjX0Sk2jvIV"
   },
   "source": [
    "***\n",
    "### The Game"
   ]
  },
  {
   "cell_type": "markdown",
   "metadata": {
    "colab_type": "text",
    "id": "7jbsNKx0jvIW"
   },
   "source": [
    "The ```Agent``` and the ```Environment``` work in an interlaced way as in the following (take some time to understand this code as it is the core of the project)\n",
    "\n",
    "```python\n",
    "\n",
    "epoch = 300\n",
    "env = Environment()\n",
    "agent = Agent()\n",
    "\n",
    "\n",
    "# Number of won games\n",
    "score = 0\n",
    "loss = 0\n",
    "\n",
    "\n",
    "for e in range(epoch):\n",
    "    # At each epoch, we restart to a fresh game and get the initial state\n",
    "    state = env.reset()\n",
    "    # This assumes that the games will end\n",
    "    game_over = False\n",
    "\n",
    "    win = 0\n",
    "    lose = 0\n",
    "    \n",
    "    while not game_over:\n",
    "        # The agent performs an action\n",
    "        action = agent.act(state)\n",
    "\n",
    "        # Apply an action to the environment, get the next state, the reward\n",
    "        # and if the games end\n",
    "        prev_state = state\n",
    "        state, reward, game_over = env.act(action)\n",
    "\n",
    "        # Update the counters\n",
    "        if reward > 0:\n",
    "            win = win + reward\n",
    "        if reward < 0:\n",
    "            lose = lose -reward\n",
    "\n",
    "        # Apply the reinforcement strategy\n",
    "        loss = agent.reinforce(prev_state, state,  action, reward, game_over)\n",
    "\n",
    "    # Save as a mp4\n",
    "    if e % 10 == 0:\n",
    "        env.draw(e)\n",
    "\n",
    "    # Update stats\n",
    "    score += win-lose\n",
    "\n",
    "    print(\"Epoch {:03d}/{:03d} | Loss {:.4f} | Win/lose count {}/{} ({})\"\n",
    "          .format(e, epoch, loss, win, lose, win-lose))\n",
    "    agent.save()\n",
    "```"
   ]
  },
  {
   "cell_type": "markdown",
   "metadata": {
    "colab_type": "text",
    "id": "np89UF9rjvIX"
   },
   "source": [
    "# The game, *eat cheese*"
   ]
  },
  {
   "cell_type": "markdown",
   "metadata": {
    "colab_type": "text",
    "id": "S5kWXVU1jvIY"
   },
   "source": [
    "A rat runs on an island and tries to eat as much as possible. The island is subdivided into $N\\times N$ cells, in which there are cheese (+0.5) and poisonous cells (-1). The rat has a visibility of 2 cells (thus it can see $5^2$ cells). The rat is given a time $T$ to accumulate as much food as possible. It can perform 4 actions: going up, down, left, right. \n",
    "\n",
    "The goal is to code an agent to solve this task that will learn by trial and error. We propose the following environment:"
   ]
  },
  {
   "cell_type": "code",
   "execution_count": 0,
   "metadata": {
    "colab": {},
    "colab_type": "code",
    "id": "III_jBTEjvIZ"
   },
   "outputs": [],
   "source": [
    "class Environment(object):\n",
    "    def __init__(self, grid_size=10, max_time=500, temperature=0.1):\n",
    "        grid_size = grid_size+4\n",
    "        self.grid_size = grid_size\n",
    "        self.max_time = max_time\n",
    "        self.temperature = temperature\n",
    "\n",
    "        #board on which one plays\n",
    "        self.board = np.zeros((grid_size,grid_size))\n",
    "        self.position = np.zeros((grid_size,grid_size))\n",
    "\n",
    "        # coordinate of the cat\n",
    "        self.x = 0\n",
    "        self.y = 1\n",
    "\n",
    "        # self time\n",
    "        self.t = 0\n",
    "\n",
    "        self.scale=16\n",
    "\n",
    "        self.to_draw = np.zeros((max_time+2, grid_size*self.scale, grid_size*self.scale, 3))\n",
    "\n",
    "\n",
    "    def draw(self,e):\n",
    "        skvideo.io.vwrite(str(e) + '.mp4', self.to_draw)\n",
    "\n",
    "    def get_frame(self,t):\n",
    "        b = np.zeros((self.grid_size,self.grid_size,3))+128\n",
    "        b[self.board>0,0] = 256\n",
    "        b[self.board < 0, 2] = 256\n",
    "        b[self.x,self.y,:]=256\n",
    "        b[-2:,:,:]=0\n",
    "        b[:,-2:,:]=0\n",
    "        b[:2,:,:]=0\n",
    "        b[:,:2,:]=0\n",
    "        \n",
    "        b =  cv2.resize(b, None, fx=self.scale, fy=self.scale, interpolation=cv2.INTER_NEAREST)\n",
    "\n",
    "        self.to_draw[t,:,:,:]=b\n",
    "\n",
    "\n",
    "    def act(self, action):\n",
    "        \"\"\"This function returns the new state, reward and decides if the\n",
    "        game ends.\"\"\"\n",
    "\n",
    "        self.get_frame(int(self.t))\n",
    "\n",
    "        self.position = np.zeros((self.grid_size, self.grid_size))\n",
    "\n",
    "        self.position[0:2,:]= -1\n",
    "        self.position[:,0:2] = -1\n",
    "        self.position[-2:, :] = -1\n",
    "        self.position[-2:, :] = -1\n",
    "\n",
    "        self.position[self.x, self.y] = 1\n",
    "        if action == 0:\n",
    "            if self.x == self.grid_size-3:\n",
    "                self.x = self.x-1\n",
    "            else:\n",
    "                self.x = self.x + 1\n",
    "        elif action == 1:\n",
    "            if self.x == 2:\n",
    "                self.x = self.x+1\n",
    "            else:\n",
    "                self.x = self.x-1\n",
    "        elif action == 2:\n",
    "            if self.y == self.grid_size - 3:\n",
    "                self.y = self.y - 1\n",
    "            else:\n",
    "                self.y = self.y + 1\n",
    "        elif action == 3:\n",
    "            if self.y == 2:\n",
    "                self.y = self.y + 1\n",
    "            else:\n",
    "                self.y = self.y - 1\n",
    "        else:\n",
    "            RuntimeError('Error: action not recognized')\n",
    "\n",
    "        self.t = self.t + 1\n",
    "        reward = self.board[self.x, self.y]\n",
    "        self.board[self.x, self.y] = 0\n",
    "        game_over = self.t > self.max_time\n",
    "        state = np.concatenate((self.board.reshape(self.grid_size, self.grid_size,1),\n",
    "                        self.position.reshape(self.grid_size, self.grid_size,1)),axis=2)\n",
    "        state = state[self.x-2:self.x+3,self.y-2:self.y+3,:]\n",
    "\n",
    "        return state, reward, game_over\n",
    "\n",
    "    def reset(self):\n",
    "        \"\"\"This function resets the game and returns the initial state\"\"\"\n",
    "\n",
    "        self.x = np.random.randint(3, self.grid_size-3, size=1)[0]\n",
    "        self.y = np.random.randint(3, self.grid_size-3, size=1)[0]\n",
    "\n",
    "\n",
    "        bonus = 0.5*np.random.binomial(1,self.temperature,size=self.grid_size**2)\n",
    "        bonus = bonus.reshape(self.grid_size,self.grid_size)\n",
    "\n",
    "        malus = -1.0*np.random.binomial(1,self.temperature,size=self.grid_size**2)\n",
    "        malus = malus.reshape(self.grid_size, self.grid_size)\n",
    "\n",
    "        self.to_draw = np.zeros((self.max_time+2, self.grid_size*self.scale, self.grid_size*self.scale, 3))\n",
    "\n",
    "\n",
    "        malus[bonus>0]=0\n",
    "\n",
    "        self.board = bonus + malus\n",
    "\n",
    "        self.position = np.zeros((self.grid_size, self.grid_size))\n",
    "        self.position[0:2,:]= -1\n",
    "        self.position[:,0:2] = -1\n",
    "        self.position[-2:, :] = -1\n",
    "        self.position[-2:, :] = -1\n",
    "        self.board[self.x,self.y] = 0\n",
    "        self.t = 0\n",
    "\n",
    "        state = np.concatenate((\n",
    "                               self.board.reshape(self.grid_size, self.grid_size,1),\n",
    "                        self.position.reshape(self.grid_size, self.grid_size,1)),axis=2)\n",
    "\n",
    "        state = state[self.x - 2:self.x + 3, self.y - 2:self.y + 3, :]\n",
    "        return state"
   ]
  },
  {
   "cell_type": "markdown",
   "metadata": {
    "colab_type": "text",
    "id": "P6ZzyeUmjvId"
   },
   "source": [
    "The following elements are important because they correspond to the hyper parameters for this project:"
   ]
  },
  {
   "cell_type": "code",
   "execution_count": 0,
   "metadata": {
    "colab": {},
    "colab_type": "code",
    "id": "Pu-ynZF_jvId"
   },
   "outputs": [],
   "source": [
    "# parameters\n",
    "size = 13\n",
    "T=200\n",
    "temperature=0.3\n",
    "epochs_train=20 # set small when debugging\n",
    "epochs_test=20 # set small when debugging\n",
    "\n",
    "# display videos\n",
    "def display_videos(name):\n",
    "    video = io.open(name, 'r+b').read()\n",
    "    encoded = base64.b64encode(video)\n",
    "    return '''<video alt=\"test\" controls>\n",
    "                <source src=\"data:video/mp4;base64,{0}\" type=\"video/mp4\" />\n",
    "             </video>'''.format(encoded.decode('ascii'))"
   ]
  },
  {
   "cell_type": "markdown",
   "metadata": {
    "colab_type": "text",
    "id": "789pgphFjvIj"
   },
   "source": [
    "__Question 2__ Explain the use of the arrays ```position``` and ```board```."
   ]
  },
  {
   "cell_type": "markdown",
   "metadata": {
    "colab_type": "text",
    "id": "QEnYaknPjvIj"
   },
   "source": [
    "The **position **array represent position of rat at the certain time . It is 0 by default and is set to 1 to represent where the rat is. -1 means the boundaries where the rat can't go.\n",
    "\n",
    "The** board** arryay represents the environment of the game. It shows the rewards(0 for cheese, -1 for poisonous).\n"
   ]
  },
  {
   "cell_type": "markdown",
   "metadata": {
    "colab_type": "text",
    "id": "2_4kurexjvIk"
   },
   "source": [
    "## Random Agent"
   ]
  },
  {
   "cell_type": "markdown",
   "metadata": {
    "colab_type": "text",
    "id": "cvN4D4BOjvIl"
   },
   "source": [
    "***\n",
    "__Question 3__ Implement a random Agent (only ```learned_act``` needs to be implemented):"
   ]
  },
  {
   "cell_type": "code",
   "execution_count": 0,
   "metadata": {
    "colab": {},
    "colab_type": "code",
    "id": "Qf5A80_PjvIl"
   },
   "outputs": [],
   "source": [
    "class RandomAgent(Agent):\n",
    "    def __init__(self):\n",
    "        super(RandomAgent, self).__init__()\n",
    "        pass\n",
    "\n",
    "    def learned_act(self, s):\n",
    "         return np.random.randint(4) # Return random integers between 0 and 3 included."
   ]
  },
  {
   "cell_type": "markdown",
   "metadata": {
    "colab_type": "text",
    "id": "L1Y3oyDJjvIo"
   },
   "source": [
    "***\n",
    "***\n",
    "__Question 4__ Visualize the game moves. You need to fill in the following function for the evaluation:"
   ]
  },
  {
   "cell_type": "code",
   "execution_count": 0,
   "metadata": {
    "colab": {},
    "colab_type": "code",
    "id": "oFFn0p6TjvIp"
   },
   "outputs": [],
   "source": [
    "def test(agent,env,epochs,prefix=''):\n",
    "    # Number of won games\n",
    "    score = 0\n",
    "        \n",
    "    for e in range(epochs):\n",
    "        \n",
    "        ##### FILL IN HERE\n",
    "        \n",
    "        # Get the initial state at each epoch.\n",
    "        state = env.reset()\n",
    "        \n",
    "        game_over = False\n",
    "        win, lose = 0, 0\n",
    "        \n",
    "        while not game_over:\n",
    "        # Let the agent performs an action\n",
    "            action = agent.learned_act(state)\n",
    "\n",
    "            # call act to get the next state, the reward and whether the game end\n",
    "            prev_state = state\n",
    "            state, reward, game_over = env.act(action)\n",
    "\n",
    "            # Update the counters\n",
    "            if reward > 0:\n",
    "                win = win + reward\n",
    "            if reward < 0:\n",
    "                lose = lose - reward\n",
    "                \n",
    "        # Save as a mp4\n",
    "        env.draw(prefix+str(e))\n",
    "\n",
    "        # Update stats\n",
    "        score = score + win-lose\n",
    "\n",
    "        print(\"Win/lose count {}/{}. Average score ({})\"\n",
    "              .format(win, lose, score/(1+e)))\n",
    "    print('Final score: '+str(score/epochs))"
   ]
  },
  {
   "cell_type": "code",
   "execution_count": 59,
   "metadata": {
    "colab": {
     "base_uri": "https://localhost:8080/",
     "height": 650
    },
    "colab_type": "code",
    "id": "_1wQI-7ijvIs",
    "outputId": "4a690557-49e8-46f0-efe2-b6e67cd449d5"
   },
   "outputs": [
    {
     "name": "stdout",
     "output_type": "stream",
     "text": [
      "Win/lose count 11.0/15.0. Average score (-4.0)\n",
      "Win/lose count 10.0/16.0. Average score (-5.0)\n",
      "Win/lose count 8.0/14.0. Average score (-5.333333333333333)\n",
      "Win/lose count 12.5/15.0. Average score (-4.625)\n",
      "Win/lose count 9.0/18.0. Average score (-5.5)\n",
      "Win/lose count 16.0/11.0. Average score (-3.75)\n",
      "Win/lose count 9.5/17.0. Average score (-4.285714285714286)\n",
      "Win/lose count 6.5/11.0. Average score (-4.3125)\n",
      "Win/lose count 9.5/11.0. Average score (-4.0)\n",
      "Win/lose count 9.5/21.0. Average score (-4.75)\n",
      "Win/lose count 6.5/8.0. Average score (-4.454545454545454)\n",
      "Win/lose count 10.0/20.0. Average score (-4.916666666666667)\n",
      "Win/lose count 4.5/14.0. Average score (-5.269230769230769)\n",
      "Win/lose count 6.0/15.0. Average score (-5.535714285714286)\n",
      "Win/lose count 8.5/12.0. Average score (-5.4)\n",
      "Win/lose count 10.0/14.0. Average score (-5.3125)\n",
      "Win/lose count 6.5/10.0. Average score (-5.205882352941177)\n",
      "Win/lose count 10.5/6.0. Average score (-4.666666666666667)\n",
      "Win/lose count 11.5/16.0. Average score (-4.657894736842105)\n",
      "Win/lose count 9.5/6.0. Average score (-4.25)\n",
      "Final score: -4.25\n"
     ]
    },
    {
     "data": {
      "text/html": [
       "<video alt=\"test\" controls>\n",
       "                <source src=\"data:video/mp4;base64,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\" type=\"video/mp4\" />\n",
       "             </video>"
      ],
      "text/plain": [
       "<IPython.core.display.HTML object>"
      ]
     },
     "execution_count": 59,
     "metadata": {
      "tags": []
     },
     "output_type": "execute_result"
    }
   ],
   "source": [
    "# Initialize the game\n",
    "env = Environment(grid_size=size, max_time=T,temperature=temperature)\n",
    "\n",
    "# Initialize the agent!\n",
    "agent = RandomAgent()\n",
    "\n",
    "test(agent,env,epochs_test,prefix='random')\n",
    "HTML(display_videos('random0.mp4'))"
   ]
  },
  {
   "cell_type": "markdown",
   "metadata": {
    "colab_type": "text",
    "id": "zSfq4P6kjvIx"
   },
   "source": [
    "***\n",
    "## DQN"
   ]
  },
  {
   "cell_type": "markdown",
   "metadata": {
    "colab_type": "text",
    "id": "bU9zJa_wjvIy"
   },
   "source": [
    "Let us assume here that $T=\\infty$.\n",
    "\n",
    "***\n",
    "__Question 5__ Let $\\pi$ be a policy, show that:\n",
    "\n",
    "\\begin{equation*}\n",
    "Q^{\\pi}(s,a)=E_{(s',a')\\sim p(.|s,a)}[r(s,a)+\\gamma Q^{\\pi}(s',a')]\n",
    "\\end{equation*}\n",
    "\n",
    "Then, show that for the optimal policy $\\pi^*$ (we assume its existence), the following holds: \n",
    "\n",
    "\\begin{equation*}\n",
    "Q^{*}(s,a)=E_{s'\\sim \\pi^*(.|s,a)}[r(s,a)+\\gamma\\max_{a'}Q^{*}(s',a')].\n",
    "\\end{equation*}\n",
    "Finally, deduce that a plausible objective is:\n",
    "\n",
    "\\begin{equation*}\n",
    "\\mathcal{L}(\\theta)=E_{s' \\sim \\pi^*(.|s,a)}\\Vert r+\\gamma\\max\\max_{a'}Q(s',a',\\theta)-Q(s,a,\\theta)\\Vert^{2}.\n",
    "\\end{equation*}\n",
    "\n",
    "\n"
   ]
  },
  {
   "cell_type": "markdown",
   "metadata": {
    "colab_type": "text",
    "id": "26o-rnlhjvIz"
   },
   "source": [
    "**Answer**\n",
    "\n",
    "$ 1. \\\\ \\\\ $\n",
    "\n",
    "According to Bellman equation:\n",
    "\n",
    "\\begin{align*}\n",
    "Q^{\\pi}(s,a) & = E_{\\pi}[\\Sigma^{\\infty}_{t=0} \\gamma^t r_t(s_t, \\pi(s_t),s_{t+1}) | s_t = s,a_t = a] \\\\\n",
    " Q^{\\pi}(s_0,a_0) & = E_{\\pi}[r_0(s_0,a_0,s_1)+\\Sigma^{\\infty}_{t=1} \\gamma^t r_t (s_t,\\pi(s_t),s_{t+1}) | s_0,a_0 ] \\\\\n",
    "& = E_{\\pi}[r_0(s_0,a_0,s_1) + \\gamma E_{\\pi} \\{ \\Sigma_{t=1}^{\\infty} \\gamma^{t-1} r_t (s_t,\\pi(s_t),s_{t+1} | s_1,a_1 \\} s_0,a_0 ] \\\\\n",
    "& = E_{\\pi} [r_0 (s_0,a_0,s_1)+\\gamma Q^{\\pi}(s_1,a_1)]\n",
    "\\end{align*}\n",
    "\n",
    "Therefore\n",
    "$$Q^{\\pi}(s,a) = E_{(s',a') \\sim p(.|s,a)} [r(s,a)+\\gamma Q^{\\pi}(s',a')]$$ \n",
    "\n",
    "$ 2. \\\\ \\\\ $\n",
    "\n",
    "\n",
    "\\begin{equation*}\n",
    "Q^*(s,a) = \\max_{\\pi} Q^{\\pi}(s, a)\n",
    "\\end{equation*}\n",
    "\n",
    "turn this into form of \n",
    "\n",
    "\\begin{align*}\n",
    "Q^{\\pi}(s,a)=E_{(s',a')\\sim p(.|s,a)}[r(s,a)+\\gamma Q^{\\pi}(s',a')]\n",
    "\\end{align*}\n",
    "\n",
    "then it becomes\n",
    "\n",
    "\\begin{align*}\n",
    "Q^*(s,a) &= \\max_{\\pi} Q^{\\pi}(s,a) = E_{(s',a')\\sim \\pi^*(.|s,a)}[r(s,a)+\\gamma \\max_{\\pi} Q^{\\pi}(s',a')] \\\\\n",
    "&= E_{(s',a')\\sim \\pi^*(.|s,a)}[r(s,a)+\\gamma Q^*(s',a')]\n",
    "\\end{align*}\n",
    "\n",
    "\\begin{align*}\n",
    "Q^*(s,a) = \\max_{\\pi} Q^{\\pi}(s,a) = E_{s' \\sim \\pi^*(.|s,a)}[r(s,a)+\\gamma \\max_{a'} Q^{*}(s',a')]\n",
    "\\end{align*}\n",
    "\n",
    "$ 3. \\\\ \\\\ $\n",
    "\n",
    "The optimal Q is \n",
    "$$Q^{*}(s,a)=E_{s'\\sim \\pi^*(.|s,a)}[r(s,a)+\\gamma\\max_{a'}Q^{*}(s',a')].$$\n",
    "\n",
    "$$Q^{\\pi}(s,a)=E_{(s',a')\\sim p(.|s,a)}[r(s,a)+\\gamma Q^{\\pi}(s',a')]$$\n",
    "\n",
    "Then we can deduce the loss function:\n",
    "\n",
    "\\begin{equation*}\n",
    "\\mathcal{L}(\\theta)=E_{s' \\sim \\pi^*(.|s,a)}\\Vert r+\\gamma\\max\\max_{a'}Q(s',a',\\theta)-Q(s,a,\\theta)\\Vert^{2}.\n",
    "\\end{equation*}"
   ]
  },
  {
   "cell_type": "markdown",
   "metadata": {
    "colab_type": "text",
    "id": "j4ZMrSmIjvI0"
   },
   "source": [
    "***\n",
    "The DQN-learning algorithm relies on these derivations to train the parameters $\\theta$ of a Deep Neural Network:\n",
    "\n",
    "1. At the state $s_t$, select the action $a_t$ with best reward using $Q_t$ and store the results;\n",
    "\n",
    "2. Obtain the new state $s_{t+1}$ from the environment $p$;\n",
    "\n",
    "3. Store $(s_t,a_t,s_{t+1})$;\n",
    "\n",
    "4. Obtain $Q_{t+1}$ by minimizing  $\\mathcal{L}$ from a recovered batch from the previously stored results.\n",
    "\n",
    "***\n",
    "__Question 6__ Implement the class ```Memory``` that stores moves (in a replay buffer) via ```remember``` and provides a ```random_access``` to these. Specify a maximum memory size to avoid side effects. You can for example use a ```list()``` and set by default ```max_memory=100```."
   ]
  },
  {
   "cell_type": "code",
   "execution_count": 0,
   "metadata": {
    "colab": {},
    "colab_type": "code",
    "id": "Kh0qnqF1jvI1"
   },
   "outputs": [],
   "source": [
    "class Memory(object):\n",
    "    def __init__(self, max_memory=100):\n",
    "        self.max_memory = max_memory\n",
    "        self.memory = collections.deque(maxlen=max_memory) # deque:list-like container with fast appends and pops on either end\n",
    "\n",
    "    def remember(self, m):\n",
    "        self.memory.append(m)\n",
    "\n",
    "    def random_access(self):\n",
    "        id_random = np.random.randint(len(self.memory))\n",
    "        return self.memory[id_random]\n",
    "        "
   ]
  },
  {
   "cell_type": "markdown",
   "metadata": {
    "colab_type": "text",
    "id": "MlYw5raEjvI5"
   },
   "source": [
    "***\n",
    "The pipeline we will use for training is given below:"
   ]
  },
  {
   "cell_type": "code",
   "execution_count": 0,
   "metadata": {
    "colab": {},
    "colab_type": "code",
    "id": "TgTQMTXSjvI7"
   },
   "outputs": [],
   "source": [
    "def train(agent,env,epoch,prefix=''):\n",
    "    # Number of won games\n",
    "    score = 0\n",
    "    loss = 0\n",
    "\n",
    "    for e in range(epoch):\n",
    "        # At each epoch, we restart to a fresh game and get the initial state\n",
    "        state = env.reset()\n",
    "        # This assumes that the games will terminate\n",
    "        game_over = False\n",
    "\n",
    "        win = 0\n",
    "        lose = 0\n",
    "\n",
    "        while not game_over:\n",
    "            # The agent performs an action\n",
    "            action = agent.act(state)\n",
    "\n",
    "            # Apply an action to the environment, get the next state, the reward\n",
    "            # and if the games end\n",
    "            prev_state = state\n",
    "            state, reward, game_over = env.act(action)\n",
    "\n",
    "            # Update the counters\n",
    "            if reward > 0:\n",
    "                win = win + reward\n",
    "            if reward < 0:\n",
    "                lose = lose -reward\n",
    "\n",
    "            # Apply the reinforcement strategy\n",
    "            loss = agent.reinforce(prev_state, state,  action, reward, game_over)\n",
    "\n",
    "        # Save as a mp4\n",
    "        if e % 10 == 0:\n",
    "            env.draw(prefix+str(e))\n",
    "\n",
    "        # Update stats\n",
    "        score += win-lose\n",
    "\n",
    "        print(\"Epoch {:03d}/{:03d} | Loss {:.4f} | Win/lose count {}/{} ({})\"\n",
    "              .format(e, epoch, loss, win, lose, win-lose))\n",
    "        agent.save(name_weights=prefix+'model.h5',name_model=prefix+'model.json')"
   ]
  },
  {
   "cell_type": "markdown",
   "metadata": {
    "colab_type": "text",
    "id": "DID7ukC4jvI_"
   },
   "source": [
    "***\n",
    "__Question 7__ Implement the DQN training algorithm using a cascade of fully connected layers. You can use different learning rate, batch size or memory size parameters. In particular, the loss might oscillate while the player will start to win the games. You have to find a good criterium."
   ]
  },
  {
   "cell_type": "code",
   "execution_count": 0,
   "metadata": {
    "colab": {},
    "colab_type": "code",
    "id": "4ZoNlsrHjvJA"
   },
   "outputs": [],
   "source": [
    "class DQN(Agent):\n",
    "    def __init__(self, grid_size,  epsilon = 0.1, memory_size=100, batch_size = 16,n_state=2):\n",
    "        super(DQN, self).__init__(epsilon = epsilon)\n",
    "        # Discount for Q learning\n",
    "        self.discount = 0.99\n",
    "        \n",
    "        self.grid_size = grid_size\n",
    "        \n",
    "        # number of state\n",
    "        self.n_state = n_state\n",
    "\n",
    "        # Memory\n",
    "        self.memory = Memory(memory_size)\n",
    "        \n",
    "        # Batch size when learning\n",
    "        self.batch_size = batch_size\n",
    "\n",
    "    def learned_act(self, s):\n",
    "        act_val = self.model.predict(np.reshape(s, (1, 5, 5, self.n_state)))\n",
    "        return np.argmax(act_val[0])\n",
    "      \n",
    "      \n",
    "    def reinforce(self, s_, n_s_, a_, r_, game_over_):\n",
    "        # Two steps: first memorize the states, second learn from the pool\n",
    "\n",
    "        self.memory.remember([s_, n_s_, a_, r_, game_over_])\n",
    "        \n",
    "        input_states = np.zeros((self.batch_size, 5,5,self.n_state))\n",
    "        target_q = np.zeros((self.batch_size, 4))\n",
    "        \n",
    "        for i in range(self.batch_size):\n",
    "            ######## FILL IN\n",
    "            batch = self.memory.random_access()\n",
    "            s_, n_s_, a_, r_, game_over_ = batch\n",
    "            \n",
    "            input_states[i]= s_\n",
    "            \n",
    "            if game_over_:\n",
    "                ######## FILL IN\n",
    "                target_q[i][a_] = r_\n",
    "                \n",
    "            else:\n",
    "                ######## FILL IN\n",
    "                target_q[i][a_] = r_ + self.discount * np.max(self.model.predict(np.expand_dims(n_s_, 0)))\n",
    "                #target_q[i][a_] = r_  + self.discount * np.max(self.model.predict(n_s_[np.newaxis,:]))\n",
    "                \n",
    "                \n",
    "        ######## FILL IN\n",
    "        # HINT: Clip the target to avoid exploiding gradients.. -- clipping is a bit tighter\n",
    "        target_q = np.clip(target_q, -3, 3)\n",
    "\n",
    "        l = self.model.train_on_batch(input_states, target_q)\n",
    "\n",
    "\n",
    "        return l\n",
    "\n",
    "    def save(self,name_weights='model.h5',name_model='model.json'):\n",
    "        self.model.save_weights(name_weights, overwrite=True)\n",
    "        with open(name_model, \"w\") as outfile:\n",
    "            json.dump(self.model.to_json(), outfile)\n",
    "            \n",
    "    def load(self,name_weights='model.h5',name_model='model.json'):\n",
    "        with open(name_model, \"r\") as jfile:\n",
    "            model = model_from_json(json.load(jfile))\n",
    "        model.load_weights(name_weights)\n",
    "        model.compile(\"sgd\", \"mse\")\n",
    "        self.model = model\n",
    "\n",
    "            \n",
    "class DQN_FC(DQN):\n",
    "    def __init__(self, *args, lr=0.1,**kwargs):\n",
    "        super(DQN_FC, self).__init__( *args,**kwargs)\n",
    "        \n",
    "        # NN Model\n",
    "        \n",
    "        ####### FILL IN\n",
    "        model = Sequential()\n",
    "        model.add(Dense(32,input_shape = (5,5,self.n_state),activation=\"relu\"))\n",
    "        model.add(Flatten())\n",
    "        model.add(Dense(32, activation=\"relu\"))\n",
    "        model.add(Dense(4,activation=\"linear\"))                                                      \n",
    "        model.compile(sgd(lr=lr, decay=1e-4, momentum=0.0), \"mse\")\n",
    "        self.model = model\n",
    "        "
   ]
  },
  {
   "cell_type": "code",
   "execution_count": 63,
   "metadata": {
    "colab": {
     "base_uri": "https://localhost:8080/",
     "height": 633
    },
    "colab_type": "code",
    "id": "RsFufOdAjvJC",
    "outputId": "fcbc4de5-0aa4-44c6-94c1-b367b133b8b1"
   },
   "outputs": [
    {
     "name": "stdout",
     "output_type": "stream",
     "text": [
      "Epoch 000/020 | Loss 0.0047 | Win/lose count 4.5/3.0 (1.5)\n",
      "Epoch 001/020 | Loss 0.0051 | Win/lose count 1.0/4.0 (-3.0)\n",
      "Epoch 002/020 | Loss 0.0115 | Win/lose count 2.5/4.0 (-1.5)\n",
      "Epoch 003/020 | Loss 0.0065 | Win/lose count 5.0/3.0 (2.0)\n",
      "Epoch 004/020 | Loss 0.0080 | Win/lose count 3.0/6.0 (-3.0)\n",
      "Epoch 005/020 | Loss 0.0169 | Win/lose count 4.5/4.0 (0.5)\n",
      "Epoch 006/020 | Loss 0.0055 | Win/lose count 3.5/3.0 (0.5)\n",
      "Epoch 007/020 | Loss 0.0076 | Win/lose count 6.0/4.0 (2.0)\n",
      "Epoch 008/020 | Loss 0.0015 | Win/lose count 9.0/6.0 (3.0)\n",
      "Epoch 009/020 | Loss 0.0009 | Win/lose count 6.5/3.0 (3.5)\n",
      "Epoch 010/020 | Loss 0.0138 | Win/lose count 5.5/1.0 (4.5)\n",
      "Epoch 011/020 | Loss 0.0148 | Win/lose count 5.5/4.0 (1.5)\n",
      "Epoch 012/020 | Loss 0.0056 | Win/lose count 3.0/5.0 (-2.0)\n",
      "Epoch 013/020 | Loss 0.0025 | Win/lose count 5.5/5.0 (0.5)\n",
      "Epoch 014/020 | Loss 0.0144 | Win/lose count 3.0/2.0 (1.0)\n",
      "Epoch 015/020 | Loss 0.0176 | Win/lose count 5.5/1.0 (4.5)\n",
      "Epoch 016/020 | Loss 0.0102 | Win/lose count 4.5/3.0 (1.5)\n",
      "Epoch 017/020 | Loss 0.0083 | Win/lose count 1.0/2.0 (-1.0)\n",
      "Epoch 018/020 | Loss 0.0047 | Win/lose count 5.5/4.0 (1.5)\n",
      "Epoch 019/020 | Loss 0.0023 | Win/lose count 5.0/1.0 (4.0)\n"
     ]
    },
    {
     "data": {
      "text/html": [
       "<video alt=\"test\" controls>\n",
       "                <source src=\"data:video/mp4;base64,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\" type=\"video/mp4\" />\n",
       "             </video>"
      ],
      "text/plain": [
       "<IPython.core.display.HTML object>"
      ]
     },
     "execution_count": 63,
     "metadata": {
      "tags": []
     },
     "output_type": "execute_result"
    }
   ],
   "source": [
    "env = Environment(grid_size=size, max_time=T, temperature=0.3)\n",
    "agent = DQN_FC(size, lr=.1, epsilon = 0.1, memory_size=2000, batch_size = 32)\n",
    "train(agent, env, epochs_train, prefix='fc_train')\n",
    "HTML(display_videos('fc_train10.mp4'))"
   ]
  },
  {
   "cell_type": "markdown",
   "metadata": {
    "colab_type": "text",
    "id": "fW32OKLRjvJF"
   },
   "source": [
    "***\n",
    "***\n",
    "__Question 8__ Implement the DQN training algorithm using a CNN (for example, 2 convolutional layers and one final fully connected layer)."
   ]
  },
  {
   "cell_type": "code",
   "execution_count": 0,
   "metadata": {
    "colab": {},
    "colab_type": "code",
    "id": "JAzKP3WCjvJG"
   },
   "outputs": [],
   "source": [
    "class DQN_CNN(DQN):\n",
    "    def __init__(self, *args,lr=0.1,**kwargs):\n",
    "        super(DQN_CNN, self).__init__(*args,**kwargs)\n",
    "        \n",
    "        ###### FILL IN\n",
    "        \n",
    "        model = Sequential()\n",
    "        model.add(Conv2D(64, (2,2), input_shape=(5,5,self.n_state), activation='relu'))\n",
    "        model.add(Conv2D(32, (2,2), activation='relu'))\n",
    "        model.add(Dropout(0.2))\n",
    "        model.add(Flatten())\n",
    "        model.add(Dense(16, activation='relu'))\n",
    "        model.add(Dense(4, activation='linear'))\n",
    "        model.compile(sgd(lr=lr, decay=1e-4, momentum=0.0), \"mse\")\n",
    "        self.model = model"
   ]
  },
  {
   "cell_type": "code",
   "execution_count": 65,
   "metadata": {
    "colab": {
     "base_uri": "https://localhost:8080/",
     "height": 633
    },
    "colab_type": "code",
    "id": "VJ2OlftujvJJ",
    "outputId": "a0ffbf3e-88da-495f-d054-d648cc9279ad"
   },
   "outputs": [
    {
     "name": "stdout",
     "output_type": "stream",
     "text": [
      "Epoch 000/020 | Loss 0.0198 | Win/lose count 7.5/8.0 (-0.5)\n",
      "Epoch 001/020 | Loss 0.0045 | Win/lose count 5.5/4.0 (1.5)\n",
      "Epoch 002/020 | Loss 0.0172 | Win/lose count 3.0/3.0 (0.0)\n",
      "Epoch 003/020 | Loss 0.0045 | Win/lose count 2.5/0 (2.5)\n",
      "Epoch 004/020 | Loss 0.0100 | Win/lose count 4.0/3.0 (1.0)\n",
      "Epoch 005/020 | Loss 0.0053 | Win/lose count 1.5/0 (1.5)\n",
      "Epoch 006/020 | Loss 0.0189 | Win/lose count 4.5/7.0 (-2.5)\n",
      "Epoch 007/020 | Loss 0.0074 | Win/lose count 7.0/3.0 (4.0)\n",
      "Epoch 008/020 | Loss 0.0026 | Win/lose count 4.0/1.0 (3.0)\n",
      "Epoch 009/020 | Loss 0.0159 | Win/lose count 6.5/5.0 (1.5)\n",
      "Epoch 010/020 | Loss 0.0039 | Win/lose count 4.0/2.0 (2.0)\n",
      "Epoch 011/020 | Loss 0.0035 | Win/lose count 4.5/4.0 (0.5)\n",
      "Epoch 012/020 | Loss 0.0047 | Win/lose count 8.0/2.0 (6.0)\n",
      "Epoch 013/020 | Loss 0.0021 | Win/lose count 3.5/4.0 (-0.5)\n",
      "Epoch 014/020 | Loss 0.0205 | Win/lose count 4.5/1.0 (3.5)\n",
      "Epoch 015/020 | Loss 0.0097 | Win/lose count 10.5/4.0 (6.5)\n",
      "Epoch 016/020 | Loss 0.0082 | Win/lose count 6.0/4.0 (2.0)\n",
      "Epoch 017/020 | Loss 0.0024 | Win/lose count 5.0/6.0 (-1.0)\n",
      "Epoch 018/020 | Loss 0.0042 | Win/lose count 2.5/5.0 (-2.5)\n",
      "Epoch 019/020 | Loss 0.0168 | Win/lose count 12.5/4.0 (8.5)\n"
     ]
    },
    {
     "data": {
      "text/html": [
       "<video alt=\"test\" controls>\n",
       "                <source src=\"data:video/mp4;base64,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\" type=\"video/mp4\" />\n",
       "             </video>"
      ],
      "text/plain": [
       "<IPython.core.display.HTML object>"
      ]
     },
     "execution_count": 65,
     "metadata": {
      "tags": []
     },
     "output_type": "execute_result"
    }
   ],
   "source": [
    "env = Environment(grid_size=size, max_time=T, temperature=0.3)\n",
    "agent = DQN_CNN(size, lr=.1, epsilon = 0.1, memory_size=2000, batch_size = 32)\n",
    "train(agent,env,epochs_train,prefix='cnn_train')\n",
    "HTML(display_videos('cnn_train10.mp4'))"
   ]
  },
  {
   "cell_type": "markdown",
   "metadata": {
    "colab_type": "text",
    "id": "M-sKrkp7jvJM"
   },
   "source": [
    "***\n",
    "***\n",
    "__Question 9__ Test both algorithms and compare their performances. Which issue(s) do you observe? Observe also different behaviors by changing the temperature."
   ]
  },
  {
   "cell_type": "code",
   "execution_count": 66,
   "metadata": {
    "colab": {
     "base_uri": "https://localhost:8080/",
     "height": 765
    },
    "colab_type": "code",
    "id": "2RopFNRijvJN",
    "outputId": "4f154099-496e-40f5-f9c7-db560d408549"
   },
   "outputs": [
    {
     "name": "stdout",
     "output_type": "stream",
     "text": [
      "Test of the CNN\n",
      "Win/lose count 4.0/0. Average score (4.0)\n",
      "Win/lose count 0/1.0. Average score (1.5)\n",
      "Win/lose count 0.5/0. Average score (1.1666666666666667)\n",
      "Win/lose count 0/0. Average score (0.875)\n",
      "Win/lose count 5.0/1.0. Average score (1.5)\n",
      "Win/lose count 1.0/0. Average score (1.4166666666666667)\n",
      "Win/lose count 4.5/1.0. Average score (1.7142857142857142)\n",
      "Win/lose count 1.0/1.0. Average score (1.5)\n",
      "Win/lose count 3.5/0. Average score (1.7222222222222223)\n",
      "Win/lose count 4.5/0. Average score (2.0)\n",
      "Win/lose count 2.0/0. Average score (2.0)\n",
      "Win/lose count 0.5/0. Average score (1.875)\n",
      "Win/lose count 1.0/0. Average score (1.8076923076923077)\n",
      "Win/lose count 1.0/0. Average score (1.75)\n",
      "Win/lose count 3.0/1.0. Average score (1.7666666666666666)\n",
      "Win/lose count 0.5/1.0. Average score (1.625)\n",
      "Win/lose count 2.5/0. Average score (1.6764705882352942)\n",
      "Win/lose count 0.5/0. Average score (1.6111111111111112)\n",
      "Win/lose count 2.5/0. Average score (1.6578947368421053)\n",
      "Win/lose count 1.0/0. Average score (1.625)\n",
      "Final score: 1.625\n",
      "Test of the FC\n",
      "Win/lose count 1.0/5.0. Average score (-4.0)\n",
      "Win/lose count 1.5/2.0. Average score (-2.25)\n",
      "Win/lose count 2.0/4.0. Average score (-2.1666666666666665)\n",
      "Win/lose count 1.5/1.0. Average score (-1.5)\n",
      "Win/lose count 0/2.0. Average score (-1.6)\n",
      "Win/lose count 3.0/0. Average score (-0.8333333333333334)\n",
      "Win/lose count 0.5/0. Average score (-0.6428571428571429)\n",
      "Win/lose count 2.5/0. Average score (-0.25)\n",
      "Win/lose count 0/1.0. Average score (-0.3333333333333333)\n",
      "Win/lose count 3.0/2.0. Average score (-0.2)\n",
      "Win/lose count 0.5/1.0. Average score (-0.22727272727272727)\n",
      "Win/lose count 2.5/1.0. Average score (-0.08333333333333333)\n",
      "Win/lose count 1.5/0. Average score (0.038461538461538464)\n",
      "Win/lose count 2.5/2.0. Average score (0.07142857142857142)\n",
      "Win/lose count 1.5/1.0. Average score (0.1)\n",
      "Win/lose count 0.5/0. Average score (0.125)\n",
      "Win/lose count 0/1.0. Average score (0.058823529411764705)\n",
      "Win/lose count 0/0. Average score (0.05555555555555555)\n",
      "Win/lose count 2.0/0. Average score (0.15789473684210525)\n",
      "Win/lose count 1.5/2.0. Average score (0.125)\n",
      "Final score: 0.125\n"
     ]
    }
   ],
   "source": [
    "env = Environment(grid_size=size, max_time=T,temperature=0.3)\n",
    "agent_cnn = DQN_CNN(size, lr=.1, epsilon = 0.1, memory_size=2000, batch_size = 32)\n",
    "agent_cnn.load(name_weights='cnn_trainmodel.h5',name_model='cnn_trainmodel.json')\n",
    "\n",
    "agent_fc = DQN_FC(size, lr=.1, epsilon = 0.1, memory_size=2000, batch_size = 32)\n",
    "agent_cnn.load(name_weights='fc_trainmodel.h5',name_model='fc_trainmodel.json')\n",
    "print('Test of the CNN')\n",
    "test(agent_cnn,env,epochs_test,prefix='cnn_test')\n",
    "print('Test of the FC')\n",
    "test(agent_fc,env,epochs_test,prefix='fc_test')"
   ]
  },
  {
   "cell_type": "code",
   "execution_count": 67,
   "metadata": {
    "colab": {
     "base_uri": "https://localhost:8080/",
     "height": 293
    },
    "colab_type": "code",
    "id": "V6Y7D5V2jvJR",
    "outputId": "1424146c-068d-4a15-ae4d-8c52ff61e041"
   },
   "outputs": [
    {
     "data": {
      "text/html": [
       "<video alt=\"test\" controls>\n",
       "                <source src=\"data:video/mp4;base64,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\" type=\"video/mp4\" />\n",
       "             </video>"
      ],
      "text/plain": [
       "<IPython.core.display.HTML object>"
      ]
     },
     "execution_count": 67,
     "metadata": {
      "tags": []
     },
     "output_type": "execute_result"
    }
   ],
   "source": [
    "HTML(display_videos('cnn_test10.mp4'))"
   ]
  },
  {
   "cell_type": "code",
   "execution_count": 68,
   "metadata": {
    "colab": {
     "base_uri": "https://localhost:8080/",
     "height": 293
    },
    "colab_type": "code",
    "id": "PnX-mHKTjvJU",
    "outputId": "962b1982-db22-4baf-89cc-7c40f647410c"
   },
   "outputs": [
    {
     "data": {
      "text/html": [
       "<video alt=\"test\" controls>\n",
       "                <source src=\"data:video/mp4;base64,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\" type=\"video/mp4\" />\n",
       "             </video>"
      ],
      "text/plain": [
       "<IPython.core.display.HTML object>"
      ]
     },
     "execution_count": 68,
     "metadata": {
      "tags": []
     },
     "output_type": "execute_result"
    }
   ],
   "source": [
    "HTML(display_videos('fc_test10.mp4'))"
   ]
  },
  {
   "cell_type": "markdown",
   "metadata": {
    "colab_type": "text",
    "id": "Br4PYZLcjvJX"
   },
   "source": [
    "**Answer:**\n",
    "\n",
    "\n",
    "\n",
    "*   Generaly CNN has a better performance than FC. However,  these two are both stuck in certain place don't expolore other place .\n",
    "*   Changing the temperature means we change the binomial distribution. The higher the temperature the easier to get cheese. So we can see from the table below, as the temperature increase, the score increase. \n",
    "\n",
    "\n",
    "\n",
    "\n",
    ">Temperature | Final Score for CNN | Final Score for FC\n",
    ">--- | ---\n",
    ">0.3 | 1.975| 0.35\n",
    ">0.5 | 2.975| 0.0\n",
    ">0.7 | 7.275| 0.725\n",
    ">0.9|6.85|2.225\n",
    ">1 | 13.5| 5.425\n"
   ]
  },
  {
   "cell_type": "markdown",
   "metadata": {
    "colab_type": "text",
    "id": "a3jO__wCjvJY"
   },
   "source": [
    "***\n",
    "\n",
    "The algorithm tends to not explore the map which can be an issue. We propose two ideas in order to encourage exploration:\n",
    "1. Incorporating a decreasing $\\epsilon$-greedy exploration. You can use the method ```set_epsilon```\n",
    "2. Append via the environment a new state that describes if a cell has been visited or not\n",
    "\n",
    "***\n",
    "__Question 10__ Design a new ```train_explore``` function and environment class ```EnvironmentExploring``` to tackle the issue of exploration.\n",
    "\n"
   ]
  },
  {
   "cell_type": "code",
   "execution_count": 0,
   "metadata": {
    "colab": {},
    "colab_type": "code",
    "id": "SgYPWPSV5XDb"
   },
   "outputs": [],
   "source": [
    "def train_explore(agent,env,epoch,prefix=''):\n",
    "    # Number of won games\n",
    "    score = 0\n",
    "    loss = 0\n",
    "    \n",
    "    agent.epsilon = 0.8\n",
    "\n",
    "    for e in range(epoch):\n",
    "        # At each epoch, we restart to a fresh game and get the initial state\n",
    "        state = env.reset()\n",
    "        # This assumes that the games will terminate\n",
    "        game_over = False\n",
    "        # Epsilon-greedy \n",
    "        agent.epsilon = agent.epsilon * 0.8\n",
    "        \n",
    "        win = 0\n",
    "        lose = 0\n",
    "\n",
    "        while not game_over:\n",
    "          \n",
    "            # The agent performs an action\n",
    "            action = agent.act(state)\n",
    "\n",
    "            # Apply an action to the environment, get the next state, the reward\n",
    "            # and if the games end\n",
    "            prev_state = state\n",
    "            state, reward, game_over = env.act(action, train=True)\n",
    "\n",
    "            # Update the counters\n",
    "            if reward > 0:\n",
    "                win = win + reward\n",
    "            if reward < 0:\n",
    "                lose = lose -reward\n",
    "\n",
    "            # Apply the reinforcement strategy\n",
    "            loss = agent.reinforce(prev_state, state,  action, reward, game_over)\n",
    "\n",
    "        # Save as a mp4\n",
    "        if e % 10 == 0:\n",
    "            env.draw(prefix+str(e))\n",
    "\n",
    "        # Update stats\n",
    "        score += win-lose\n",
    "\n",
    "        print(\"Epoch {:03d}/{:03d} | Loss {:.4f} | Win/lose count {}/{} ({})\"\n",
    "              .format(e, epoch, loss, win, lose, win-lose))\n",
    "        agent.save(name_weights=prefix+'model.h5',name_model=prefix+'model.json')\n",
    "    \n",
    "class EnvironmentExploring(object):\n",
    "    def __init__(self, grid_size=10, max_time=500, temperature=0.1):\n",
    "        grid_size = grid_size+4\n",
    "        self.grid_size = grid_size\n",
    "        self.max_time = max_time\n",
    "        self.temperature = temperature\n",
    "\n",
    "        #board on which one plays\n",
    "        self.board = np.zeros((grid_size,grid_size))\n",
    "        self.position = np.zeros((grid_size,grid_size))\n",
    "        self.malus_position = np.zeros((grid_size,grid_size))\n",
    "\n",
    "        # coordinate of the cat\n",
    "        self.x = 0\n",
    "        self.y = 1\n",
    "\n",
    "        # self time\n",
    "        self.t = 0\n",
    "\n",
    "        self.scale=16\n",
    "\n",
    "        self.to_draw = np.zeros((max_time+2, grid_size*self.scale, grid_size*self.scale, 3))\n",
    "\n",
    "\n",
    "    def draw(self,e):\n",
    "        skvideo.io.vwrite(str(e) + '.mp4', self.to_draw)\n",
    "\n",
    "    def get_frame(self,t):\n",
    "        b = np.zeros((self.grid_size,self.grid_size,3))+128\n",
    "        b[self.board>0,0] = 256\n",
    "        b[self.board < 0, 2] = 256\n",
    "        b[self.x,self.y,:]=256\n",
    "        b[-2:,:,:]=0\n",
    "        b[:,-2:,:]=0\n",
    "        b[:2,:,:]=0\n",
    "        b[:,:2,:]=0\n",
    "        \n",
    "        b =  cv2.resize(b, None, fx=self.scale, fy=self.scale, interpolation=cv2.INTER_NEAREST)\n",
    "\n",
    "        self.to_draw[t,:,:,:]=b\n",
    "\n",
    "\n",
    "    def act(self, action, train=False):\n",
    "        \"\"\"This function returns the new state, reward and decides if the\n",
    "        game ends.\"\"\"\n",
    "\n",
    "        self.get_frame(int(self.t))\n",
    "\n",
    "        self.position = np.zeros((self.grid_size, self.grid_size))\n",
    "\n",
    "        self.position[0:2,:]= -1\n",
    "        self.position[:,0:2] = -1\n",
    "        self.position[-2:, :] = -1 \n",
    "        self.position[:, -2:] = -1\n",
    "\n",
    "        self.position[self.x, self.y] = 1\n",
    "        if action == 0:\n",
    "            if self.x == self.grid_size-3:\n",
    "                self.x = self.x-1\n",
    "            else:\n",
    "                self.x = self.x + 1\n",
    "        elif action == 1:\n",
    "            if self.x == 2:\n",
    "                self.x = self.x+1\n",
    "            else:\n",
    "                self.x = self.x-1\n",
    "        elif action == 2:\n",
    "            if self.y == self.grid_size - 3:\n",
    "                self.y = self.y - 1\n",
    "            else:\n",
    "                self.y = self.y + 1\n",
    "        elif action == 3:\n",
    "            if self.y == 2:\n",
    "                self.y = self.y + 1\n",
    "            else:\n",
    "                self.y = self.y - 1\n",
    "        else:\n",
    "            RuntimeError('Error: action not recognized')\n",
    "\n",
    "        self.t = self.t + 1\n",
    "        ## In Environment exploring:\n",
    "        # You will have to change n_state to 3 because you will use one more layer!\n",
    "        reward = 0\n",
    "        if train:\n",
    "            reward = -self.malus_position[self.x, self.y]\n",
    "            \n",
    "        self.malus_position[self.x, self.y] = 0.1\n",
    "        reward = reward + self.board[self.x, self.y]   \n",
    "        \n",
    "        self.board[self.x, self.y] = 0 \n",
    "        game_over = self.t > self.max_time \n",
    "        \n",
    "        # 3 \"feature\" states instead of 2\n",
    "        state = np.concatenate((self.malus_position.reshape(self.grid_size, self.grid_size,1),\n",
    "                                self.board.reshape(self.grid_size, self.grid_size,1),\n",
    "                                self.position.reshape(self.grid_size, self.grid_size,1)),axis=2)\n",
    "        \n",
    "        state = state[self.x-2:self.x+3,self.y-2:self.y+3,:]\n",
    "\n",
    "        return state, reward, game_over\n",
    "\n",
    "    def reset(self):\n",
    "        \"\"\"This function resets the game and returns the initial state\"\"\"\n",
    "\n",
    "        self.x = np.random.randint(3, self.grid_size-3, size=1)[0]\n",
    "        self.y = np.random.randint(3, self.grid_size-3, size=1)[0]\n",
    "\n",
    "        \n",
    "        bonus = 0.5*np.random.binomial(1,self.temperature,size=self.grid_size**2)\n",
    "        bonus = bonus.reshape(self.grid_size,self.grid_size)\n",
    "\n",
    "       \n",
    "        malus = -1.0*np.random.binomial(1,self.temperature,size=self.grid_size**2)\n",
    "        malus = malus.reshape(self.grid_size, self.grid_size)\n",
    "\n",
    "        self.to_draw = np.zeros((self.max_time+2, self.grid_size*self.scale, self.grid_size*self.scale, 3))\n",
    "\n",
    "\n",
    "        malus[bonus>0]=0 \n",
    "\n",
    "        self.board = bonus + malus \n",
    "        \n",
    "        \n",
    "        self.position = np.zeros((self.grid_size, self.grid_size))\n",
    "        self.position[0:2,:]= -1\n",
    "        self.position[:,0:2] = -1\n",
    "        self.position[-2:, :] = -1 \n",
    "        self.position[:, -2:] = -1\n",
    "        self.board[self.x,self.y] = 0\n",
    "        \n",
    "        #self.malus_position[self.x, self.y] = 0\n",
    "        \n",
    "        self.board[:2,:] = 0\n",
    "        self.board[-2:,:] = 0\n",
    "        self.board[:, :2] = 0\n",
    "        self.board[:, -2:] = 0\n",
    "        \n",
    "        \n",
    "        self.t = 0\n",
    "        \n",
    "        self.malus_position = np.zeros((self.grid_size, self.grid_size))\n",
    "\n",
    "        state = np.concatenate((self.malus_position.reshape(self.grid_size, self.grid_size,1),\n",
    "                                self.board.reshape(self.grid_size, self.grid_size,1),\n",
    "                                self.position.reshape(self.grid_size, self.grid_size,1)),axis=2)\n",
    "\n",
    "        state = state[self.x - 2:self.x + 3, self.y - 2:self.y + 3, :]\n",
    "        return state\n",
    "    "
   ]
  },
  {
   "cell_type": "code",
   "execution_count": 99,
   "metadata": {
    "colab": {
     "base_uri": "https://localhost:8080/",
     "height": 633
    },
    "colab_type": "code",
    "id": "-YX8nq_VjvJc",
    "outputId": "45f36139-faf7-4d45-f09c-0a9d07fa5fd1"
   },
   "outputs": [
    {
     "name": "stdout",
     "output_type": "stream",
     "text": [
      "Epoch 000/020 | Loss 0.0134 | Win/lose count 7.5/24.400000000000084 (-16.900000000000084)\n",
      "Epoch 001/020 | Loss 0.0225 | Win/lose count 12.0/30.100000000000083 (-18.100000000000083)\n",
      "Epoch 002/020 | Loss 0.0474 | Win/lose count 7.0/29.300000000000125 (-22.300000000000125)\n",
      "Epoch 003/020 | Loss 0.0200 | Win/lose count 11.0/25.700000000000102 (-14.700000000000102)\n",
      "Epoch 004/020 | Loss 0.0248 | Win/lose count 7.0/18.800000000000004 (-11.800000000000004)\n",
      "Epoch 005/020 | Loss 0.0130 | Win/lose count 8.5/20.000000000000007 (-11.500000000000007)\n",
      "Epoch 006/020 | Loss 0.0123 | Win/lose count 9.0/20.900000000000006 (-11.900000000000006)\n",
      "Epoch 007/020 | Loss 0.0210 | Win/lose count 20.0/16.699999999999978 (3.300000000000022)\n",
      "Epoch 008/020 | Loss 0.0123 | Win/lose count 7.0/20.400000000000027 (-13.400000000000027)\n",
      "Epoch 009/020 | Loss 0.0081 | Win/lose count 15.0/20.20000000000003 (-5.200000000000031)\n",
      "Epoch 010/020 | Loss 0.0283 | Win/lose count 8.5/21.800000000000058 (-13.300000000000058)\n",
      "Epoch 011/020 | Loss 0.0155 | Win/lose count 12.5/15.599999999999964 (-3.099999999999964)\n",
      "Epoch 012/020 | Loss 0.0182 | Win/lose count 9.0/21.90000000000003 (-12.90000000000003)\n",
      "Epoch 013/020 | Loss 0.0185 | Win/lose count 11.5/18.800000000000015 (-7.300000000000015)\n",
      "Epoch 014/020 | Loss 0.0096 | Win/lose count 16.5/15.499999999999968 (1.000000000000032)\n",
      "Epoch 015/020 | Loss 0.0048 | Win/lose count 17.5/16.49999999999997 (1.0000000000000284)\n",
      "Epoch 016/020 | Loss 0.0303 | Win/lose count 6.0/19.900000000000016 (-13.900000000000016)\n",
      "Epoch 017/020 | Loss 0.0053 | Win/lose count 19.5/15.599999999999962 (3.9000000000000377)\n",
      "Epoch 018/020 | Loss 0.0107 | Win/lose count 17.5/14.399999999999975 (3.1000000000000245)\n",
      "Epoch 019/020 | Loss 0.0065 | Win/lose count 18.5/17.09999999999998 (1.40000000000002)\n"
     ]
    },
    {
     "data": {
      "text/html": [
       "<video alt=\"test\" controls>\n",
       "                <source src=\"data:video/mp4;base64,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\" type=\"video/mp4\" />\n",
       "             </video>"
      ],
      "text/plain": [
       "<IPython.core.display.HTML object>"
      ]
     },
     "execution_count": 99,
     "metadata": {
      "tags": []
     },
     "output_type": "execute_result"
    }
   ],
   "source": [
    "# Training\n",
    "epochs_train = 20\n",
    "env = EnvironmentExploring(grid_size=size, max_time=T, temperature=0.3)\n",
    "agent = DQN_CNN(size, lr=.1, epsilon = 0.1, memory_size=2000, batch_size = 32,n_state=3)\n",
    "train_explore(agent, env, epochs_train, prefix='cnn_train_explore')\n",
    "HTML(display_videos('cnn_train_explore10.mp4'))"
   ]
  },
  {
   "cell_type": "code",
   "execution_count": 100,
   "metadata": {
    "colab": {
     "base_uri": "https://localhost:8080/",
     "height": 650
    },
    "colab_type": "code",
    "id": "fK0x__BvjvJe",
    "outputId": "afcf91f3-8e49-4f5e-cd6b-3619e665f430"
   },
   "outputs": [
    {
     "name": "stdout",
     "output_type": "stream",
     "text": [
      "Win/lose count 12.5/1.0. Average score (11.5)\n",
      "Win/lose count 23.5/3.0. Average score (16.0)\n",
      "Win/lose count 6.0/1.0. Average score (12.333333333333334)\n",
      "Win/lose count 4.5/0. Average score (10.375)\n",
      "Win/lose count 17.0/5.0. Average score (10.7)\n",
      "Win/lose count 4.0/0. Average score (9.583333333333334)\n",
      "Win/lose count 15.0/0. Average score (10.357142857142858)\n",
      "Win/lose count 10.5/1.0. Average score (10.25)\n",
      "Win/lose count 2.5/0. Average score (9.38888888888889)\n",
      "Win/lose count 7.5/0. Average score (9.2)\n",
      "Win/lose count 15.0/0. Average score (9.727272727272727)\n",
      "Win/lose count 19.0/0. Average score (10.5)\n",
      "Win/lose count 14.5/2.0. Average score (10.653846153846153)\n",
      "Win/lose count 18.5/2.0. Average score (11.071428571428571)\n",
      "Win/lose count 22.0/2.0. Average score (11.666666666666666)\n",
      "Win/lose count 5.5/1.0. Average score (11.21875)\n",
      "Win/lose count 18.0/2.0. Average score (11.5)\n",
      "Win/lose count 13.5/4.0. Average score (11.38888888888889)\n",
      "Win/lose count 14.0/1.0. Average score (11.473684210526315)\n",
      "Win/lose count 7.5/0. Average score (11.275)\n",
      "Final score: 11.275\n"
     ]
    },
    {
     "data": {
      "text/html": [
       "<video alt=\"test\" controls>\n",
       "                <source src=\"data:video/mp4;base64,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\" type=\"video/mp4\" />\n",
       "             </video>"
      ],
      "text/plain": [
       "<IPython.core.display.HTML object>"
      ]
     },
     "execution_count": 100,
     "metadata": {
      "tags": []
     },
     "output_type": "execute_result"
    }
   ],
   "source": [
    "# Evaluation\n",
    "test(agent,env,epochs_test,prefix='cnn_test_explore')\n",
    "HTML(display_videos('cnn_test_explore10.mp4'))"
   ]
  },
  {
   "cell_type": "markdown",
   "metadata": {
    "colab_type": "text",
    "id": "9Zr7AEApjvJh"
   },
   "source": [
    "***\n",
    "***\n",
    "__BONUS question__ Use the expert DQN from the previous question to generate some winning games. Train a model that mimicks its behavior. Compare the performances."
   ]
  },
  {
   "cell_type": "markdown",
   "metadata": {
    "colab_type": "text",
    "id": "_JNa_bzPjvJi"
   },
   "source": []
  },
  {
   "cell_type": "markdown",
   "metadata": {
    "colab_type": "text",
    "id": "pRd6hdD0jvJi"
   },
   "source": [
    "***"
   ]
  },
  {
   "cell_type": "code",
   "execution_count": 0,
   "metadata": {
    "colab": {},
    "colab_type": "code",
    "id": "2jPERDfB3OJR"
   },
   "outputs": [],
   "source": []
  }
 ],
 "metadata": {
  "colab": {
   "collapsed_sections": [],
   "name": "YW_DQN_project_MVA.ipynb",
   "provenance": [],
   "version": "0.3.2"
  },
  "kernelspec": {
   "display_name": "Python 3",
   "language": "python",
   "name": "python3"
  },
  "language_info": {
   "codemirror_mode": {
    "name": "ipython",
    "version": 3
   },
   "file_extension": ".py",
   "mimetype": "text/x-python",
   "name": "python",
   "nbconvert_exporter": "python",
   "pygments_lexer": "ipython3",
   "version": "3.6.5"
  }
 },
 "nbformat": 4,
 "nbformat_minor": 1
}
